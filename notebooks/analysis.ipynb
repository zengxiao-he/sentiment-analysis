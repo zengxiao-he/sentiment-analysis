{
  "cells": [
    {
      "cell_type": "raw",
      "metadata": {
        "vscode": {
          "languageId": "raw"
        }
      },
      "source": [
        "# CS 224N Final Project: Sentiment Analysis Data Exploration\n",
        "\n",
        "This notebook provides data exploration, model analysis, and result visualization for the sentiment analysis project.\n",
        "\n",
        "**Author**: Zengxiao He, Wenjia Li, Daniel Zhang \n",
        "**Course**: CS 224N - Natural Language Processing with Deep Learning  \n",
        "**Quarter**: Winter 2024\n"
      ]
    }
  ],
  "metadata": {
    "language_info": {
      "name": "python"
    }
  },
  "nbformat": 4,
  "nbformat_minor": 2
}
